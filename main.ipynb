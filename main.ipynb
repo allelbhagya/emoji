{
 "cells": [
  {
   "cell_type": "code",
   "execution_count": null,
   "metadata": {},
   "outputs": [],
   "source": [
    "import cv2\n",
    "import numpy as np\n",
    "from tensorflow.keras.models import load_model"
   ]
  },
  {
   "cell_type": "code",
   "execution_count": null,
   "metadata": {},
   "outputs": [],
   "source": [
    "model = load_model('./model.h5')"
   ]
  },
  {
   "cell_type": "code",
   "execution_count": null,
   "metadata": {},
   "outputs": [],
   "source": [
    "face_cascade = cv2.CascadeClassifier(cv2.data.haarcascades + 'haarcascade_frontalface_default.xml')\n",
    "\n",
    "emotions = [\"angry\", \"disgust\", \"fear\", \"happy\", \"sad\", \"surprise\", \"neutral\"]\n"
   ]
  },
  {
   "cell_type": "code",
   "execution_count": null,
   "metadata": {},
   "outputs": [],
   "source": [
    "cap = cv2.VideoCapture(0)\n"
   ]
  },
  {
   "cell_type": "code",
   "execution_count": null,
   "metadata": {},
   "outputs": [],
   "source": [
    "while True:\n",
    "    ret, frame = cap.read()\n",
    "\n",
    "    if not ret:\n",
    "        break\n",
    "    frame = cv2.flip(frame, 1)\n",
    "    gray = cv2.cvtColor(frame, cv2.COLOR_BGR2GRAY)\n",
    "\n",
    "    faces = face_cascade.detectMultiScale(gray, scaleFactor=1.1, minNeighbors=8, minSize=(30, 30))\n",
    "\n",
    "    for (x, y, w, h) in faces:\n",
    "        roi_gray = gray[y:y + h, x:x + w]\n",
    "        roi_gray = cv2.resize(roi_gray, (48, 48), interpolation=cv2.INTER_AREA) \n",
    "        roi_gray = np.expand_dims(np.expand_dims(roi_gray, -1), 0)\n",
    "\n",
    "        emotion_pred = model.predict(roi_gray)\n",
    "        emotion_label = emotions[np.argmax(emotion_pred)]\n",
    "\n",
    "        emoji_size = (200, 200)\n",
    "        emoji_coords = (x + w // 2 - emoji_size[0] // 2 -200, y - emoji_size[1] // 2-20)\n",
    "\n",
    "        emoji_path = f'./emoji/{emotion_label}.png'\n",
    "        emoji = cv2.imread(emoji_path, cv2.IMREAD_UNCHANGED)\n",
    "\n",
    "        if emoji is not None:\n",
    "            emoji = cv2.resize(emoji, emoji_size, interpolation=cv2.INTER_AREA)\n",
    "\n",
    "            alpha_s = emoji[:, :, 3] / 255.0\n",
    "            alpha_l = 1.0 - alpha_s\n",
    "            for c in range(0, 3):\n",
    "                frame_region = frame[emoji_coords[1]:emoji_coords[1] + emoji_size[1], emoji_coords[0]:emoji_coords[0] + emoji_size[0], c]\n",
    "                if emoji[:, :, c].shape == frame_region.shape:\n",
    "                    frame[emoji_coords[1]:emoji_coords[1] + emoji_size[1], emoji_coords[0]:emoji_coords[0] + emoji_size[0], c] = (\n",
    "                        alpha_s * emoji[:, :, c] + alpha_l * frame_region\n",
    "                    )\n",
    "\n",
    "    cv2.imshow('playing around', frame)\n",
    "\n",
    "    if cv2.waitKey(1) & 0xFF == ord('q'):\n",
    "        break\n"
   ]
  }
 ],
 "metadata": {
  "kernelspec": {
   "display_name": "Python 3",
   "language": "python",
   "name": "python3"
  },
  "language_info": {
   "codemirror_mode": {
    "name": "ipython",
    "version": 3
   },
   "file_extension": ".py",
   "mimetype": "text/x-python",
   "name": "python",
   "nbconvert_exporter": "python",
   "pygments_lexer": "ipython3",
   "version": "3.11.6"
  }
 },
 "nbformat": 4,
 "nbformat_minor": 2
}
